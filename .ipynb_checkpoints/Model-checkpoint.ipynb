{
 "cells": [
  {
   "cell_type": "code",
   "execution_count": 229,
   "metadata": {},
   "outputs": [],
   "source": [
    "import csv\n",
    "import numpy as np\n",
    "import pandas as pd\n",
    "from tensorflow.keras.preprocessing.text import Tokenizer\n",
    "import matplotlib.pyplot as plt\n",
    "import seaborn as sns"
   ]
  },
  {
   "cell_type": "code",
   "execution_count": 230,
   "metadata": {},
   "outputs": [],
   "source": [
    "URL = \"bbc-text.csv\""
   ]
  },
  {
   "cell_type": "code",
   "execution_count": 231,
   "metadata": {},
   "outputs": [],
   "source": [
    "#another Method to read csv\n",
    "# category=[]\n",
    "# text=[]\n",
    "# with open(URL,'r') as csv_read:\n",
    "#     read=csv.reader(csv_read,delimiter=',')\n",
    "#     next(read)\n",
    "#     for i,k in read:\n",
    "#         category.append(i)\n",
    "#         text.append(k)\n",
    "#"
   ]
  },
  {
   "cell_type": "code",
   "execution_count": 232,
   "metadata": {},
   "outputs": [
    {
     "data": {
      "text/html": [
       "<div>\n",
       "<style scoped>\n",
       "    .dataframe tbody tr th:only-of-type {\n",
       "        vertical-align: middle;\n",
       "    }\n",
       "\n",
       "    .dataframe tbody tr th {\n",
       "        vertical-align: top;\n",
       "    }\n",
       "\n",
       "    .dataframe thead th {\n",
       "        text-align: right;\n",
       "    }\n",
       "</style>\n",
       "<table border=\"1\" class=\"dataframe\">\n",
       "  <thead>\n",
       "    <tr style=\"text-align: right;\">\n",
       "      <th></th>\n",
       "      <th>category</th>\n",
       "      <th>text</th>\n",
       "    </tr>\n",
       "  </thead>\n",
       "  <tbody>\n",
       "    <tr>\n",
       "      <th>0</th>\n",
       "      <td>tech</td>\n",
       "      <td>tv future in the hands of viewers with home th...</td>\n",
       "    </tr>\n",
       "    <tr>\n",
       "      <th>1</th>\n",
       "      <td>business</td>\n",
       "      <td>worldcom boss  left books alone  former worldc...</td>\n",
       "    </tr>\n",
       "    <tr>\n",
       "      <th>2</th>\n",
       "      <td>sport</td>\n",
       "      <td>tigers wary of farrell  gamble  leicester say ...</td>\n",
       "    </tr>\n",
       "    <tr>\n",
       "      <th>3</th>\n",
       "      <td>sport</td>\n",
       "      <td>yeading face newcastle in fa cup premiership s...</td>\n",
       "    </tr>\n",
       "    <tr>\n",
       "      <th>4</th>\n",
       "      <td>entertainment</td>\n",
       "      <td>ocean s twelve raids box office ocean s twelve...</td>\n",
       "    </tr>\n",
       "  </tbody>\n",
       "</table>\n",
       "</div>"
      ],
      "text/plain": [
       "        category                                               text\n",
       "0           tech  tv future in the hands of viewers with home th...\n",
       "1       business  worldcom boss  left books alone  former worldc...\n",
       "2          sport  tigers wary of farrell  gamble  leicester say ...\n",
       "3          sport  yeading face newcastle in fa cup premiership s...\n",
       "4  entertainment  ocean s twelve raids box office ocean s twelve..."
      ]
     },
     "execution_count": 232,
     "metadata": {},
     "output_type": "execute_result"
    }
   ],
   "source": [
    "data=pd.read_csv(URL)\n",
    "data.head()"
   ]
  },
  {
   "cell_type": "code",
   "execution_count": 233,
   "metadata": {},
   "outputs": [
    {
     "data": {
      "text/plain": [
       "category    False\n",
       "text        False\n",
       "dtype: bool"
      ]
     },
     "execution_count": 233,
     "metadata": {},
     "output_type": "execute_result"
    }
   ],
   "source": [
    "data.isnull().any()"
   ]
  },
  {
   "cell_type": "code",
   "execution_count": 234,
   "metadata": {},
   "outputs": [
    {
     "data": {
      "text/plain": [
       "category    False\n",
       "text        False\n",
       "dtype: bool"
      ]
     },
     "execution_count": 234,
     "metadata": {},
     "output_type": "execute_result"
    }
   ],
   "source": [
    "data.isna().any()"
   ]
  },
  {
   "cell_type": "code",
   "execution_count": 235,
   "metadata": {},
   "outputs": [
    {
     "data": {
      "text/html": [
       "<div>\n",
       "<style scoped>\n",
       "    .dataframe tbody tr th:only-of-type {\n",
       "        vertical-align: middle;\n",
       "    }\n",
       "\n",
       "    .dataframe tbody tr th {\n",
       "        vertical-align: top;\n",
       "    }\n",
       "\n",
       "    .dataframe thead th {\n",
       "        text-align: right;\n",
       "    }\n",
       "</style>\n",
       "<table border=\"1\" class=\"dataframe\">\n",
       "  <thead>\n",
       "    <tr style=\"text-align: right;\">\n",
       "      <th></th>\n",
       "      <th>category</th>\n",
       "      <th>text</th>\n",
       "    </tr>\n",
       "  </thead>\n",
       "  <tbody>\n",
       "  </tbody>\n",
       "</table>\n",
       "</div>"
      ],
      "text/plain": [
       "Empty DataFrame\n",
       "Columns: [category, text]\n",
       "Index: []"
      ]
     },
     "execution_count": 235,
     "metadata": {},
     "output_type": "execute_result"
    }
   ],
   "source": [
    "data[data.category.str.len()==0]"
   ]
  },
  {
   "cell_type": "code",
   "execution_count": 236,
   "metadata": {},
   "outputs": [
    {
     "data": {
      "text/html": [
       "<div>\n",
       "<style scoped>\n",
       "    .dataframe tbody tr th:only-of-type {\n",
       "        vertical-align: middle;\n",
       "    }\n",
       "\n",
       "    .dataframe tbody tr th {\n",
       "        vertical-align: top;\n",
       "    }\n",
       "\n",
       "    .dataframe thead th {\n",
       "        text-align: right;\n",
       "    }\n",
       "</style>\n",
       "<table border=\"1\" class=\"dataframe\">\n",
       "  <thead>\n",
       "    <tr style=\"text-align: right;\">\n",
       "      <th></th>\n",
       "      <th>category</th>\n",
       "      <th>text</th>\n",
       "    </tr>\n",
       "  </thead>\n",
       "  <tbody>\n",
       "  </tbody>\n",
       "</table>\n",
       "</div>"
      ],
      "text/plain": [
       "Empty DataFrame\n",
       "Columns: [category, text]\n",
       "Index: []"
      ]
     },
     "execution_count": 236,
     "metadata": {},
     "output_type": "execute_result"
    }
   ],
   "source": [
    "data[data.text.str.len()==0]"
   ]
  },
  {
   "cell_type": "code",
   "execution_count": 237,
   "metadata": {},
   "outputs": [
    {
     "data": {
      "text/plain": [
       "['tech', 'business', 'sport', 'entertainment', 'politics']"
      ]
     },
     "execution_count": 237,
     "metadata": {},
     "output_type": "execute_result"
    }
   ],
   "source": [
    "labels=data.category.unique().tolist()\n",
    "labels"
   ]
  },
  {
   "cell_type": "code",
   "execution_count": 238,
   "metadata": {},
   "outputs": [
    {
     "data": {
      "text/plain": [
       "401"
      ]
     },
     "execution_count": 238,
     "metadata": {},
     "output_type": "execute_result"
    }
   ],
   "source": [
    "tech_news=data[data.category =='tech'].count()[0]\n",
    "tech_news"
   ]
  },
  {
   "cell_type": "code",
   "execution_count": 239,
   "metadata": {},
   "outputs": [
    {
     "data": {
      "text/plain": [
       "510"
      ]
     },
     "execution_count": 239,
     "metadata": {},
     "output_type": "execute_result"
    }
   ],
   "source": [
    "business_news=data[data.category =='business'].count()[0]\n",
    "business_news"
   ]
  },
  {
   "cell_type": "code",
   "execution_count": 240,
   "metadata": {},
   "outputs": [
    {
     "data": {
      "text/plain": [
       "511"
      ]
     },
     "execution_count": 240,
     "metadata": {},
     "output_type": "execute_result"
    }
   ],
   "source": [
    "sports_news = data[data.category =='sport'].count()[0]\n",
    "sports_news"
   ]
  },
  {
   "cell_type": "code",
   "execution_count": 241,
   "metadata": {},
   "outputs": [
    {
     "data": {
      "text/plain": [
       "386"
      ]
     },
     "execution_count": 241,
     "metadata": {},
     "output_type": "execute_result"
    }
   ],
   "source": [
    "entr_news=data[data.category =='entertainment'].count()[0]\n",
    "entr_news"
   ]
  },
  {
   "cell_type": "code",
   "execution_count": 242,
   "metadata": {},
   "outputs": [
    {
     "data": {
      "text/plain": [
       "417"
      ]
     },
     "execution_count": 242,
     "metadata": {},
     "output_type": "execute_result"
    }
   ],
   "source": [
    "politics_news=data[data.category =='politics'].count()[0]\n",
    "politics_news"
   ]
  },
  {
   "cell_type": "code",
   "execution_count": 518,
   "metadata": {},
   "outputs": [
    {
     "data": {
      "image/png": "[encoded data removed]",
      "text/plain": [
       "<Figure size 456x456 with 1 Axes>"
      ]
     },
     "metadata": {},
     "output_type": "display_data"
    }
   ],
   "source": [
    "#pie chart visualisation of category of NEWS\n",
    "size=[tech_news,business_news,sports_news,entr_news,politics_news]\n",
    "plt.figure(figsize=(2,2),dpi=228)\n",
    "offset = [0.15, 0.05, 0.05, 0.05,0.05]\n",
    "plt.pie(size,labels=labels,textprops={'fontsize':6},startangle=45,autopct='%1.0f%%', explode=offset)\n",
    "\n",
    "centre_circle = plt.Circle((0, 0), radius=0.60, fc='white')\n",
    "plt.gca().add_artist(centre_circle)\n",
    "plt.show()"
   ]
  },
  {
   "cell_type": "markdown",
   "metadata": {},
   "source": [
    "# Preprocessing + NLP"
   ]
  },
  {
   "cell_type": "code",
   "execution_count": 244,
   "metadata": {},
   "outputs": [],
   "source": [
    "from nltk.tokenize import word_tokenize\n",
    "from nltk.stem import WordNetLemmatizer\n",
    "from nltk.stem import PorterStemmer\n",
    "import re\n",
    "#initilize\n",
    "lammitizer=WordNetLemmatizer()\n",
    "stemmer=PorterStemmer()"
   ]
  },
  {
   "cell_type": "code",
   "execution_count": 273,
   "metadata": {},
   "outputs": [],
   "source": [
    "#Label Encoding of Catagory into respective numaric value\n",
    "data.category.replace(labels,[0,1,2,3,4],inplace=True)"
   ]
  },
  {
   "cell_type": "code",
   "execution_count": 274,
   "metadata": {},
   "outputs": [
    {
     "data": {
      "text/html": [
       "<div>\n",
       "<style scoped>\n",
       "    .dataframe tbody tr th:only-of-type {\n",
       "        vertical-align: middle;\n",
       "    }\n",
       "\n",
       "    .dataframe tbody tr th {\n",
       "        vertical-align: top;\n",
       "    }\n",
       "\n",
       "    .dataframe thead th {\n",
       "        text-align: right;\n",
       "    }\n",
       "</style>\n",
       "<table border=\"1\" class=\"dataframe\">\n",
       "  <thead>\n",
       "    <tr style=\"text-align: right;\">\n",
       "      <th></th>\n",
       "      <th>category</th>\n",
       "      <th>text</th>\n",
       "    </tr>\n",
       "  </thead>\n",
       "  <tbody>\n",
       "    <tr>\n",
       "      <th>0</th>\n",
       "      <td>0</td>\n",
       "      <td>tv future in the hands of viewers with home th...</td>\n",
       "    </tr>\n",
       "    <tr>\n",
       "      <th>1</th>\n",
       "      <td>1</td>\n",
       "      <td>worldcom boss  left books alone  former worldc...</td>\n",
       "    </tr>\n",
       "    <tr>\n",
       "      <th>2</th>\n",
       "      <td>2</td>\n",
       "      <td>tigers wary of farrell  gamble  leicester say ...</td>\n",
       "    </tr>\n",
       "    <tr>\n",
       "      <th>3</th>\n",
       "      <td>2</td>\n",
       "      <td>yeading face newcastle in fa cup premiership s...</td>\n",
       "    </tr>\n",
       "    <tr>\n",
       "      <th>4</th>\n",
       "      <td>3</td>\n",
       "      <td>ocean s twelve raids box office ocean s twelve...</td>\n",
       "    </tr>\n",
       "  </tbody>\n",
       "</table>\n",
       "</div>"
      ],
      "text/plain": [
       "   category                                               text\n",
       "0         0  tv future in the hands of viewers with home th...\n",
       "1         1  worldcom boss  left books alone  former worldc...\n",
       "2         2  tigers wary of farrell  gamble  leicester say ...\n",
       "3         2  yeading face newcastle in fa cup premiership s...\n",
       "4         3  ocean s twelve raids box office ocean s twelve..."
      ]
     },
     "execution_count": 274,
     "metadata": {},
     "output_type": "execute_result"
    }
   ],
   "source": [
    "data.head()"
   ]
  },
  {
   "cell_type": "code",
   "execution_count": 245,
   "metadata": {},
   "outputs": [],
   "source": [
    "stopwords = [ \"a\", \"about\", \"above\", \"after\", \"again\", \"against\", \"all\", \"am\", \"an\", \"and\", \"any\", \"are\", \"as\", \"at\", \"be\", \"because\", \"been\", \"before\", \"being\", \"below\", \"between\", \"both\", \"but\", \"by\", \"could\", \"did\", \"do\", \"does\", \"doing\", \"down\", \"during\", \"each\", \"few\", \"for\", \"from\", \"further\", \"had\", \"has\", \"have\", \"having\", \"he\", \"he'd\", \"he'll\", \"he's\", \"her\", \"here\", \"here's\", \"hers\", \"herself\", \"him\", \"himself\", \"his\", \"how\", \"how's\", \"i\", \"i'd\", \"i'll\", \"i'm\", \"i've\", \"if\", \"in\", \"into\", \"is\", \"it\", \"it's\", \"its\", \"itself\", \"let's\", \"me\", \"more\", \"most\", \"my\", \"myself\", \"nor\", \"of\", \"on\", \"once\", \"only\", \"or\", \"other\", \"ought\", \"our\", \"ours\", \"ourselves\", \"out\", \"over\", \"own\", \"same\", \"she\", \"she'd\", \"she'll\", \"she's\", \"should\", \"so\", \"some\", \"such\", \"than\", \"that\", \"that's\", \"the\", \"their\", \"theirs\", \"them\", \"themselves\", \"then\", \"there\", \"there's\", \"these\", \"they\", \"they'd\", \"they'll\", \"they're\", \"they've\", \"this\", \"those\", \"through\", \"to\", \"too\", \"under\", \"until\", \"us\",\"up\", \"very\", \"was\", \"we\", \"we'd\", \"we'll\", \"we're\", \"we've\",\"will\",\"well\",\"shall\", \"were\", \"what\", \"what's\", \"when\", \"when's\", \"where\", \"where's\", \"which\", \"while\", \"who\", \"who's\", \"whom\", \"why\", \"why's\", \"with\", \"would\", \"you\",\"your's\" \"you'd\", \"you'll\", \"you're\", \"you've\", \"your\", \"yours\", \"yourself\", \"yourselves\",\"one\",\"two\",\"three\",\"four\",\"five\",\"six\",\"seven\",\"ten\",\"eight\",\"nine\",\"hundred\",\"thousand\",\"million\",\"billion\",\"doller\",\"time\",\"year\",\"date\"]"
   ]
  },
  {
   "cell_type": "code",
   "execution_count": 246,
   "metadata": {},
   "outputs": [],
   "source": [
    "# continue\n",
    "# hold\n",
    "# remain\n",
    "# occur\n",
    "# means\n",
    "# one\n",
    "#\"time\" \n",
    "#\"year\"\n",
    "#'take' "
   ]
  },
  {
   "cell_type": "code",
   "execution_count": 337,
   "metadata": {},
   "outputs": [],
   "source": [
    "var={}\n",
    "var['<00v>']=0\n",
    "index_=1\n",
    "def cleaning(message):\n",
    "    message = re.sub(r'([!,.@$%&<>?:;()+-/^0-9|]+)|(http\\S+)|(#\\S+)', '', message)\n",
    "    message=re.sub(r'[#@]\\S+',\"\",message)\n",
    "    message=re.sub(r'\\.',\"\",message)\n",
    "    #words=word_tokenize(message)\n",
    "    words=message.split()\n",
    "    filtered_words =[stemmer.stem(word.lower()) for word in words if not word.lower() in stopwords]\n",
    "    return filtered_words\n",
    "def Word_Embedding(words):\n",
    "    global var\n",
    "    global index_\n",
    "    for word in words:\n",
    "        if word in var:\n",
    "            continue\n",
    "        else:\n",
    "            var[word]=index_\n",
    "            index_+=1"
   ]
  },
  {
   "cell_type": "markdown",
   "metadata": {},
   "source": [
    "# Train Test Validation Split \n",
    "##### Ratio 6:2:2"
   ]
  },
  {
   "cell_type": "code",
   "execution_count": 338,
   "metadata": {},
   "outputs": [],
   "source": [
    "X_train = data.text[:1335]\n",
    "X_valid = data.text[1335:1780]\n",
    "X_test  = data.text[1780:]"
   ]
  },
  {
   "cell_type": "code",
   "execution_count": 339,
   "metadata": {},
   "outputs": [],
   "source": [
    "y_train = data.category[:1335]\n",
    "y_valid = data.category[1335:1780]\n",
    "y_test  = data.category[1780:]"
   ]
  },
  {
   "cell_type": "code",
   "execution_count": 340,
   "metadata": {},
   "outputs": [
    {
     "data": {
      "text/plain": [
       "0    tv future in the hands of viewers with home th...\n",
       "1    worldcom boss  left books alone  former worldc...\n",
       "2    tigers wary of farrell  gamble  leicester say ...\n",
       "3    yeading face newcastle in fa cup premiership s...\n",
       "4    ocean s twelve raids box office ocean s twelve...\n",
       "Name: text, dtype: object"
      ]
     },
     "execution_count": 340,
     "metadata": {},
     "output_type": "execute_result"
    }
   ],
   "source": [
    "X_train.head()"
   ]
  },
  {
   "cell_type": "code",
   "execution_count": 341,
   "metadata": {},
   "outputs": [
    {
     "data": {
      "text/plain": [
       "0    0\n",
       "1    1\n",
       "2    2\n",
       "3    2\n",
       "4    3\n",
       "Name: category, dtype: int64"
      ]
     },
     "execution_count": 341,
     "metadata": {},
     "output_type": "execute_result"
    }
   ],
   "source": [
    "y_train.head()"
   ]
  },
  {
   "cell_type": "markdown",
   "metadata": {},
   "source": [
    "## Cleaning and Word Embedding"
   ]
  },
  {
   "cell_type": "code",
   "execution_count": 342,
   "metadata": {},
   "outputs": [
    {
     "name": "stdout",
     "output_type": "stream",
     "text": [
      "CPU times: user 17.6 s, sys: 22.7 ms, total: 17.6 s\n",
      "Wall time: 17.6 s\n"
     ]
    }
   ],
   "source": [
    "%%time\n",
    "X_train = X_train.apply(cleaning)\n",
    "\n",
    "X_valid = X_valid.apply(cleaning)\n",
    "X_test = X_test.apply(cleaning)"
   ]
  },
  {
   "cell_type": "markdown",
   "metadata": {},
   "source": [
    "# Creating A Word Cloud"
   ]
  },
  {
   "cell_type": "code",
   "execution_count": 520,
   "metadata": {},
   "outputs": [],
   "source": [
    "from collections import Counter"
   ]
  },
  {
   "cell_type": "code",
   "execution_count": 527,
   "metadata": {},
   "outputs": [
    {
     "ename": "TypeError",
     "evalue": "unhashable type: 'list'",
     "output_type": "error",
     "traceback": [
      "\u001b[0;31m---------------------------------------------------------------------------\u001b[0m",
      "\u001b[0;31mTypeError\u001b[0m                                 Traceback (most recent call last)",
      "\u001b[0;32m<ipython-input-527-7cb27db7b5d3>\u001b[0m in \u001b[0;36m<module>\u001b[0;34m\u001b[0m\n\u001b[1;32m      1\u001b[0m \u001b[0mWC_Tokens\u001b[0m\u001b[0;34m=\u001b[0m\u001b[0mX_train\u001b[0m\u001b[0;34m.\u001b[0m\u001b[0mto_list\u001b[0m\u001b[0;34m(\u001b[0m\u001b[0;34m)\u001b[0m\u001b[0;34m\u001b[0m\u001b[0;34m\u001b[0m\u001b[0m\n\u001b[0;32m----> 2\u001b[0;31m \u001b[0mWC\u001b[0m\u001b[0;34m=\u001b[0m\u001b[0mCounter\u001b[0m\u001b[0;34m(\u001b[0m\u001b[0mWC_Tokens\u001b[0m\u001b[0;34m)\u001b[0m\u001b[0;34m\u001b[0m\u001b[0;34m\u001b[0m\u001b[0m\n\u001b[0m",
      "\u001b[0;32m~/miniconda3/lib/python3.7/collections/__init__.py\u001b[0m in \u001b[0;36m__init__\u001b[0;34m(*args, **kwds)\u001b[0m\n\u001b[1;32m    566\u001b[0m             \u001b[0;32mraise\u001b[0m \u001b[0mTypeError\u001b[0m\u001b[0;34m(\u001b[0m\u001b[0;34m'expected at most 1 arguments, got %d'\u001b[0m \u001b[0;34m%\u001b[0m \u001b[0mlen\u001b[0m\u001b[0;34m(\u001b[0m\u001b[0margs\u001b[0m\u001b[0;34m)\u001b[0m\u001b[0;34m)\u001b[0m\u001b[0;34m\u001b[0m\u001b[0;34m\u001b[0m\u001b[0m\n\u001b[1;32m    567\u001b[0m         \u001b[0msuper\u001b[0m\u001b[0;34m(\u001b[0m\u001b[0mCounter\u001b[0m\u001b[0;34m,\u001b[0m \u001b[0mself\u001b[0m\u001b[0;34m)\u001b[0m\u001b[0;34m.\u001b[0m\u001b[0m__init__\u001b[0m\u001b[0;34m(\u001b[0m\u001b[0;34m)\u001b[0m\u001b[0;34m\u001b[0m\u001b[0;34m\u001b[0m\u001b[0m\n\u001b[0;32m--> 568\u001b[0;31m         \u001b[0mself\u001b[0m\u001b[0;34m.\u001b[0m\u001b[0mupdate\u001b[0m\u001b[0;34m(\u001b[0m\u001b[0;34m*\u001b[0m\u001b[0margs\u001b[0m\u001b[0;34m,\u001b[0m \u001b[0;34m**\u001b[0m\u001b[0mkwds\u001b[0m\u001b[0;34m)\u001b[0m\u001b[0;34m\u001b[0m\u001b[0;34m\u001b[0m\u001b[0m\n\u001b[0m\u001b[1;32m    569\u001b[0m \u001b[0;34m\u001b[0m\u001b[0m\n\u001b[1;32m    570\u001b[0m     \u001b[0;32mdef\u001b[0m \u001b[0m__missing__\u001b[0m\u001b[0;34m(\u001b[0m\u001b[0mself\u001b[0m\u001b[0;34m,\u001b[0m \u001b[0mkey\u001b[0m\u001b[0;34m)\u001b[0m\u001b[0;34m:\u001b[0m\u001b[0;34m\u001b[0m\u001b[0;34m\u001b[0m\u001b[0m\n",
      "\u001b[0;32m~/miniconda3/lib/python3.7/collections/__init__.py\u001b[0m in \u001b[0;36mupdate\u001b[0;34m(*args, **kwds)\u001b[0m\n\u001b[1;32m    653\u001b[0m                     \u001b[0msuper\u001b[0m\u001b[0;34m(\u001b[0m\u001b[0mCounter\u001b[0m\u001b[0;34m,\u001b[0m \u001b[0mself\u001b[0m\u001b[0;34m)\u001b[0m\u001b[0;34m.\u001b[0m\u001b[0mupdate\u001b[0m\u001b[0;34m(\u001b[0m\u001b[0miterable\u001b[0m\u001b[0;34m)\u001b[0m \u001b[0;31m# fast path when counter is empty\u001b[0m\u001b[0;34m\u001b[0m\u001b[0;34m\u001b[0m\u001b[0m\n\u001b[1;32m    654\u001b[0m             \u001b[0;32melse\u001b[0m\u001b[0;34m:\u001b[0m\u001b[0;34m\u001b[0m\u001b[0;34m\u001b[0m\u001b[0m\n\u001b[0;32m--> 655\u001b[0;31m                 \u001b[0m_count_elements\u001b[0m\u001b[0;34m(\u001b[0m\u001b[0mself\u001b[0m\u001b[0;34m,\u001b[0m \u001b[0miterable\u001b[0m\u001b[0;34m)\u001b[0m\u001b[0;34m\u001b[0m\u001b[0;34m\u001b[0m\u001b[0m\n\u001b[0m\u001b[1;32m    656\u001b[0m         \u001b[0;32mif\u001b[0m \u001b[0mkwds\u001b[0m\u001b[0;34m:\u001b[0m\u001b[0;34m\u001b[0m\u001b[0;34m\u001b[0m\u001b[0m\n\u001b[1;32m    657\u001b[0m             \u001b[0mself\u001b[0m\u001b[0;34m.\u001b[0m\u001b[0mupdate\u001b[0m\u001b[0;34m(\u001b[0m\u001b[0mkwds\u001b[0m\u001b[0;34m)\u001b[0m\u001b[0;34m\u001b[0m\u001b[0;34m\u001b[0m\u001b[0m\n",
      "\u001b[0;31mTypeError\u001b[0m: unhashable type: 'list'"
     ]
    }
   ],
   "source": [
    "WC_Tokens=X_train.to_list()\n",
    "WC=Counter(WC_Tokens)"
   ]
  },
  {
   "cell_type": "code",
   "execution_count": 525,
   "metadata": {},
   "outputs": [
    {
     "data": {
      "text/plain": [
       "pandas.core.series.Series"
      ]
     },
     "execution_count": 525,
     "metadata": {},
     "output_type": "execute_result"
    }
   ],
   "source": []
  },
  {
   "cell_type": "code",
   "execution_count": 526,
   "metadata": {},
   "outputs": [],
   "source": []
  },
  {
   "cell_type": "code",
   "execution_count": 343,
   "metadata": {},
   "outputs": [
    {
     "data": {
      "text/plain": [
       "0       None\n",
       "1       None\n",
       "2       None\n",
       "3       None\n",
       "4       None\n",
       "        ... \n",
       "1330    None\n",
       "1331    None\n",
       "1332    None\n",
       "1333    None\n",
       "1334    None\n",
       "Name: text, Length: 1335, dtype: object"
      ]
     },
     "execution_count": 343,
     "metadata": {},
     "output_type": "execute_result"
    }
   ],
   "source": [
    "#Word Embedding only in train\n",
    "X_train.apply(Word_Embedding)"
   ]
  },
  {
   "cell_type": "code",
   "execution_count": 344,
   "metadata": {},
   "outputs": [
    {
     "name": "stdout",
     "output_type": "stream",
     "text": [
      "There are total  17331 in Our Words Dictonary\n"
     ]
    }
   ],
   "source": [
    "print(f\"There are total  {len(var)} in Our Words Dictonary\")"
   ]
  },
  {
   "cell_type": "code",
   "execution_count": 345,
   "metadata": {},
   "outputs": [
    {
     "data": {
      "text/plain": [
       "(221.58501872659176, 2288, 47)"
      ]
     },
     "execution_count": 345,
     "metadata": {},
     "output_type": "execute_result"
    }
   ],
   "source": [
    "#average no of Words in News article\n",
    "X_train.apply(len).mean(),X_train.apply(len).max(),X_train.apply(len).min()"
   ]
  },
  {
   "cell_type": "markdown",
   "metadata": {},
   "source": [
    "# Create a Sparse Matrix for the Given Data"
   ]
  },
  {
   "cell_type": "code",
   "execution_count": 368,
   "metadata": {},
   "outputs": [],
   "source": [
    "WORDS = 300"
   ]
  },
  {
   "cell_type": "code",
   "execution_count": 417,
   "metadata": {},
   "outputs": [],
   "source": [
    "X_valid = X_valid.reset_index(drop=True)\n",
    "X_test = X_test.reset_index(drop=True)"
   ]
  },
  {
   "cell_type": "code",
   "execution_count": 369,
   "metadata": {},
   "outputs": [
    {
     "name": "stdout",
     "output_type": "stream",
     "text": [
      "'let' is present at index 1292 in our Word Embedding\n",
      "'edelman' is present at index 7592 in our Word Embedding\n",
      "'fundament' is present at index 2763 in our Word Embedding\n"
     ]
    }
   ],
   "source": [
    "print(f'\\'{X_train[50][50]}\\' is present at index {var[X_train[50][50]]} in our Word Embedding')\n",
    "print(f'\\'{X_train[250][20]}\\' is present at index {var[X_train[250][20]]} in our Word Embedding')\n",
    "print(f'\\'{X_train[1150][50]}\\' is present at index {var[X_train[1150][50]]} in our Word Embedding')"
   ]
  },
  {
   "cell_type": "code",
   "execution_count": 430,
   "metadata": {},
   "outputs": [
    {
     "name": "stdout",
     "output_type": "stream",
     "text": [
      "CPU times: user 3.02 s, sys: 7.8 ms, total: 3.03 s\n",
      "Wall time: 3.03 s\n"
     ]
    }
   ],
   "source": [
    "%%time\n",
    "train_sparse = np.zeros(shape=(X_train.shape[0],300),dtype=int)\n",
    "#sparse matrix filling\n",
    "for i in range(train_sparse.shape[0]):\n",
    "    for j in range(train_sparse.shape[1]):\n",
    "        try:\n",
    "            train_sparse[i][j]=var.get(X_train[i][j],0)\n",
    "        except:\n",
    "            train_sparse[i][j] = 0\n",
    "    "
   ]
  },
  {
   "cell_type": "code",
   "execution_count": 431,
   "metadata": {},
   "outputs": [
    {
     "data": {
      "text/plain": [
       "array([[   1,    2,    3, ...,  193,  194,  195],\n",
       "       [ 247,  248,  249, ...,    0,    0,    0],\n",
       "       [ 355,  356,  357, ...,    0,    0,    0],\n",
       "       ...,\n",
       "       [2405, 2406, 4808, ...,    0,    0,    0],\n",
       "       [8717,  616,  242, ...,  451, 1334,  331],\n",
       "       [2017, 1905, 2009, ...,    0,    0,    0]])"
      ]
     },
     "execution_count": 431,
     "metadata": {},
     "output_type": "execute_result"
    }
   ],
   "source": [
    "train_sparse"
   ]
  },
  {
   "cell_type": "code",
   "execution_count": 432,
   "metadata": {},
   "outputs": [
    {
     "data": {
      "text/plain": [
       "array([675, 638, 406, 676, 677, 678, 675, 137, 277, 339, 679, 680, 440,\n",
       "       681,  62, 682, 676,  29, 683, 684, 685, 686, 236, 687,  63, 688,\n",
       "       452, 524, 137, 683,  63, 689, 690, 691, 680, 638,   5, 188, 679,\n",
       "       260, 277, 680, 690, 692, 231, 693, 694, 201, 695, 696, 192, 697,\n",
       "       698, 684, 188, 675, 137, 188, 679, 440, 699, 124, 121, 382,  63,\n",
       "       116,  40, 188, 675,  63, 700, 701,  63, 692, 702,  96, 703, 704,\n",
       "       254, 680, 440, 705,  62, 682, 676,  69, 685, 685, 706, 188, 675,\n",
       "       124, 687, 683, 707, 360, 707, 277, 707, 708, 306, 425, 709, 710,\n",
       "       711, 712, 713, 714, 715, 339, 679, 224, 238, 676, 548, 716, 185,\n",
       "       694, 201, 695, 696, 192, 697, 698, 684, 717, 718, 719, 720, 721,\n",
       "       188, 675,  63, 267, 201, 382,  63, 722,  40, 683,  89, 684, 723,\n",
       "       724, 288, 186,  17, 725, 678, 675,  63,  12, 726, 288,  96,  71,\n",
       "       703,  77, 204, 217, 117, 150, 395, 727, 728, 729, 730, 188, 675,\n",
       "       137, 680, 731, 732, 733, 734, 570, 735, 736, 737, 738, 739, 740,\n",
       "       741, 297, 742, 743, 124, 687, 452, 188, 675, 744,  69, 742, 111,\n",
       "       745, 719, 746, 747, 390, 748, 665, 749, 750, 687, 391, 392, 638,\n",
       "       406, 683, 277, 177, 188, 746, 751, 752,  63,  89, 751, 752, 188,\n",
       "       753,  63, 751, 188, 675, 137, 687, 754, 734, 755,  77, 725,  75,\n",
       "       756, 757,  89, 758, 192, 699, 759, 760, 761, 762, 405, 732, 763,\n",
       "       764, 186, 765, 742, 766, 595, 767, 768, 134, 769, 770, 771, 772,\n",
       "       773, 774, 775, 776, 678, 675, 777, 778, 116, 779, 780, 781, 782,\n",
       "       687,  63, 783, 784, 733, 785, 786, 244, 787, 771, 788, 789, 790,\n",
       "       791,  57, 792, 687, 793, 377, 477, 378, 740, 794, 795, 201, 796,\n",
       "       797])"
      ]
     },
     "execution_count": 432,
     "metadata": {},
     "output_type": "execute_result"
    }
   ],
   "source": [
    "train_sparse[5]"
   ]
  },
  {
   "cell_type": "code",
   "execution_count": 433,
   "metadata": {},
   "outputs": [
    {
     "name": "stdout",
     "output_type": "stream",
     "text": [
      "CPU times: user 1.04 s, sys: 0 ns, total: 1.04 s\n",
      "Wall time: 1.04 s\n"
     ]
    }
   ],
   "source": [
    "%%time\n",
    "valid_sparse = np.zeros(shape=(X_valid.shape[0],300),dtype=int)\n",
    "#sparse matrix filling\n",
    "for i in range(valid_sparse.shape[0]):\n",
    "    for j in range(valid_sparse.shape[1]):\n",
    "        try:\n",
    "            valid_sparse[i][j]=var.get(X_valid[i][j],0)\n",
    "        except:\n",
    "            valid_sparse[i][j] = 0\n"
   ]
  },
  {
   "cell_type": "code",
   "execution_count": 434,
   "metadata": {},
   "outputs": [
    {
     "data": {
      "text/plain": [
       "array([ 2762,  2547,  4054,  1537,   160,  2762,  2547,   127,   885,\n",
       "        1797,   294,  8987,  4054,  1759,  1995,    38,  2324,  7363,\n",
       "       11739,   137,   614,     0,  1995,    21,   738,  3328, 16641,\n",
       "        1066, 11739,   137,   345,   118,  1933,  1975,  8518,  1303,\n",
       "        1995,    63,  1466,   137,  9821,   262,   295,   297,   395,\n",
       "         360,  1329,   716,   297,  9639,   160,   993,  1210,  2477,\n",
       "        1451,  4382,  1518,   345,  1297,  1388,  5941,  2706,   340,\n",
       "        3904,  1554,  1995,    63,   126, 11739,   137,   927,   160,\n",
       "         614,    21,   392,  1359,   799,  2762,  2547,  1226,  1917,\n",
       "        3916,   148,   991,   379,  1312,   909,   716,   377,  1325,\n",
       "         127,   885,  1797,   185, 10499,   821,    89,  1871,   125,\n",
       "        1320,  1995,  2762,  2547,  1772,   173,  4272,  2795,   441,\n",
       "        2706,  1995,    79,    69,  2156,   988,   482,  1063,  1324,\n",
       "        1979,   345,   118,    80,  1919,  2477,    63,   602,  1094,\n",
       "        1936,  7525,  1101,  1795,  6663,  1320,  1995,  2706,   589,\n",
       "        1098,  2351,  1101,  2708,  1094,  1075,  1995,   911, 11739,\n",
       "           0,  1372,  3653, 16641,  1066,     0,     0,     0,     0,\n",
       "           0,     0,     0,     0,     0,     0,     0,     0,     0,\n",
       "           0,     0,     0,     0,     0,     0,     0,     0,     0,\n",
       "           0,     0,     0,     0,     0,     0,     0,     0,     0,\n",
       "           0,     0,     0,     0,     0,     0,     0,     0,     0,\n",
       "           0,     0,     0,     0,     0,     0,     0,     0,     0,\n",
       "           0,     0,     0,     0,     0,     0,     0,     0,     0,\n",
       "           0,     0,     0,     0,     0,     0,     0,     0,     0,\n",
       "           0,     0,     0,     0,     0,     0,     0,     0,     0,\n",
       "           0,     0,     0,     0,     0,     0,     0,     0,     0,\n",
       "           0,     0,     0,     0,     0,     0,     0,     0,     0,\n",
       "           0,     0,     0,     0,     0,     0,     0,     0,     0,\n",
       "           0,     0,     0,     0,     0,     0,     0,     0,     0,\n",
       "           0,     0,     0,     0,     0,     0,     0,     0,     0,\n",
       "           0,     0,     0,     0,     0,     0,     0,     0,     0,\n",
       "           0,     0,     0,     0,     0,     0,     0,     0,     0,\n",
       "           0,     0,     0,     0,     0,     0,     0,     0,     0,\n",
       "           0,     0,     0])"
      ]
     },
     "execution_count": 434,
     "metadata": {},
     "output_type": "execute_result"
    }
   ],
   "source": [
    "valid_sparse[15]"
   ]
  },
  {
   "cell_type": "code",
   "execution_count": 437,
   "metadata": {},
   "outputs": [
    {
     "name": "stdout",
     "output_type": "stream",
     "text": [
      "CPU times: user 1.06 s, sys: 0 ns, total: 1.06 s\n",
      "Wall time: 1.06 s\n"
     ]
    }
   ],
   "source": [
    "%%time\n",
    "test_sparse = np.zeros(shape=(X_test.shape[0],300),dtype=int)\n",
    "#sparse matrix filling\n",
    "for i in range(test_sparse.shape[0]):\n",
    "    for j in range(test_sparse.shape[1]):\n",
    "        try:\n",
    "            test_sparse[i][j]=var.get(X_test[i][j],0)\n",
    "        except:\n",
    "            test_sparse[i][j] = 0"
   ]
  },
  {
   "cell_type": "code",
   "execution_count": 441,
   "metadata": {},
   "outputs": [
    {
     "data": {
      "text/plain": [
       "array([ 2017,   754, 11186,  1288,  2367,  2018,   754,    13,    65,\n",
       "         848,  2561,   691,    90,  1922,   703,     5,   718,  2016,\n",
       "        2017,   137,   726,  1288,     7,  1645,   951,    63,  1355,\n",
       "         755,     7,   754,   680,   188,  2017,  5943,   754,   285,\n",
       "         137,  2907,  1696,   169,    65,   844,  1842,  1053,  2854,\n",
       "        2855,   360,   319,   754,   680,  6073,  3939,   137,   687,\n",
       "        1407,  1512,   153,   128,  1220,   687,  6072,   137,   884,\n",
       "        2459,   153,   683,   701,  1449,  3163,    21,    89,    79,\n",
       "        1885,   734,   680,  3387,   755,     5,   718,   137,    73,\n",
       "         134,  1218,  3116,  1812,    65,  5125,  1975,  1059,    90,\n",
       "         185,  2327,   703,  1492,   121,    63,  5999,  6000,   137,\n",
       "        2907, 11186,   364,  1165,   703,   782,  1842,  1053,   844,\n",
       "        1059,    89,  1679,  4986,  1437,   137,  5997,     7,   319,\n",
       "         418,  2114,   327,    17,   851,   773,   173,   703,  1059,\n",
       "         773,   343,    90,  1922,  1353,   703,     5,   718,   747,\n",
       "        4493,  4386,   734,  6919,   344,  1237,   285,    77,   721,\n",
       "         277,   734,   693,  2726,  5768,   128,   773,   703,   421,\n",
       "         812,   703,  2372,  3128,   178,   811,  9599,  3685,   815,\n",
       "         693,   137,  1261,  2065,     5,  4921,  2066,   614,  2067,\n",
       "         137,  5140,   651,   683,   721,   680,  1042,   755,  6919,\n",
       "         420,   375,     5,   306,    63,   327,    42,  4178,  1854,\n",
       "        6919,     7,   188,   675,   137,   365,    84,  4178,   281,\n",
       "         957,    63,  1422,  8833,   277,  1772,  6919,     7,  2022,\n",
       "         365,    63, 10398,  3759,  3665,  1710,  2460,  4537,  2620,\n",
       "         238,   188,  2017, 15213,   189,   365,    63,   762,  2561,\n",
       "         734,   201,  3302,  2970,  4777,  2015,   727,   117,  1129,\n",
       "        2379,    50,   101,   137,  8353,  4776,   949,   950,   951,\n",
       "       10968,  1741,  3331,  2538,   732,  8833,  4172,   137,   188,\n",
       "         675,    63,   726,   101,   127,  4772,  2615,    65,     0,\n",
       "           0,     0,     0,     0,     0,     0,     0,     0,     0,\n",
       "           0,     0,     0,     0,     0,     0,     0,     0,     0,\n",
       "           0,     0,     0,     0,     0,     0,     0,     0,     0,\n",
       "           0,     0,     0,     0,     0,     0,     0,     0,     0,\n",
       "           0,     0,     0])"
      ]
     },
     "execution_count": 441,
     "metadata": {},
     "output_type": "execute_result"
    }
   ],
   "source": [
    "test_sparse[2]"
   ]
  },
  {
   "cell_type": "markdown",
   "metadata": {},
   "source": [
    "##### Ab <i>DANGAL</i> hoga"
   ]
  },
  {
   "cell_type": "markdown",
   "metadata": {},
   "source": [
    "# Model"
   ]
  },
  {
   "cell_type": "code",
   "execution_count": 442,
   "metadata": {},
   "outputs": [],
   "source": [
    "import tensorflow as tf"
   ]
  },
  {
   "cell_type": "code",
   "execution_count": 496,
   "metadata": {},
   "outputs": [],
   "source": [
    "model = tf.keras.Sequential()\n",
    "model.add(tf.keras.layers.Embedding(input_dim=len(var),output_dim=20,input_length=WORDS))\n",
    "model.add(tf.keras.layers.Flatten())\n",
    "model.add(tf.keras.layers.Dense(units=36,activation='relu'))\n",
    "model.add(tf.keras.layers.Dropout(0.8))\n",
    "model.add(tf.keras.layers.Dense(units=5,activation='softmax'))"
   ]
  },
  {
   "cell_type": "code",
   "execution_count": 497,
   "metadata": {},
   "outputs": [
    {
     "name": "stdout",
     "output_type": "stream",
     "text": [
      "Model: \"sequential_7\"\n",
      "_________________________________________________________________\n",
      "Layer (type)                 Output Shape              Param #   \n",
      "=================================================================\n",
      "embedding_7 (Embedding)      (None, 300, 20)           346620    \n",
      "_________________________________________________________________\n",
      "flatten_6 (Flatten)          (None, 6000)              0         \n",
      "_________________________________________________________________\n",
      "dense_12 (Dense)             (None, 36)                216036    \n",
      "_________________________________________________________________\n",
      "dropout_5 (Dropout)          (None, 36)                0         \n",
      "_________________________________________________________________\n",
      "dense_13 (Dense)             (None, 5)                 185       \n",
      "=================================================================\n",
      "Total params: 562,841\n",
      "Trainable params: 562,841\n",
      "Non-trainable params: 0\n",
      "_________________________________________________________________\n"
     ]
    }
   ],
   "source": [
    "model.summary()"
   ]
  },
  {
   "cell_type": "code",
   "execution_count": 498,
   "metadata": {},
   "outputs": [],
   "source": [
    "#complile Model\n",
    "model.compile(loss='sparse_categorical_crossentropy',optimizer='adam',metrics=['accuracy'])"
   ]
  },
  {
   "cell_type": "code",
   "execution_count": 499,
   "metadata": {},
   "outputs": [
    {
     "name": "stdout",
     "output_type": "stream",
     "text": [
      "Train on 1335 samples, validate on 445 samples\n",
      "Epoch 1/15\n",
      "1335/1335 - 1s - loss: 1.5965 - acc: 0.2494 - val_loss: 1.5649 - val_acc: 0.2809\n",
      "Epoch 2/15\n",
      "1335/1335 - 0s - loss: 1.4893 - acc: 0.3393 - val_loss: 1.5034 - val_acc: 0.3483\n",
      "Epoch 3/15\n",
      "1335/1335 - 0s - loss: 1.3472 - acc: 0.4315 - val_loss: 1.2588 - val_acc: 0.5933\n",
      "Epoch 4/15\n",
      "1335/1335 - 0s - loss: 1.0210 - acc: 0.6120 - val_loss: 0.8458 - val_acc: 0.7685\n",
      "Epoch 5/15\n",
      "1335/1335 - 1s - loss: 0.7146 - acc: 0.7258 - val_loss: 0.5204 - val_acc: 0.9056\n",
      "Epoch 6/15\n",
      "1335/1335 - 0s - loss: 0.4930 - acc: 0.8075 - val_loss: 0.3510 - val_acc: 0.9258\n",
      "Epoch 7/15\n",
      "1335/1335 - 1s - loss: 0.4130 - acc: 0.8240 - val_loss: 0.2729 - val_acc: 0.9326\n",
      "Epoch 8/15\n",
      "1335/1335 - 0s - loss: 0.3589 - acc: 0.8427 - val_loss: 0.2058 - val_acc: 0.9528\n",
      "Epoch 9/15\n",
      "1335/1335 - 0s - loss: 0.3551 - acc: 0.8367 - val_loss: 0.1798 - val_acc: 0.9573\n",
      "Epoch 10/15\n",
      "1335/1335 - 0s - loss: 0.3316 - acc: 0.8442 - val_loss: 0.1573 - val_acc: 0.9596\n",
      "Epoch 11/15\n",
      "1335/1335 - 0s - loss: 0.2789 - acc: 0.8674 - val_loss: 0.1355 - val_acc: 0.9618\n",
      "Epoch 12/15\n",
      "1335/1335 - 0s - loss: 0.2917 - acc: 0.8539 - val_loss: 0.1370 - val_acc: 0.9618\n",
      "Epoch 13/15\n",
      "1335/1335 - 0s - loss: 0.2680 - acc: 0.8622 - val_loss: 0.1194 - val_acc: 0.9663\n",
      "Epoch 14/15\n",
      "1335/1335 - 0s - loss: 0.2719 - acc: 0.8494 - val_loss: 0.1156 - val_acc: 0.9663\n",
      "Epoch 15/15\n",
      "1335/1335 - 0s - loss: 0.2738 - acc: 0.8637 - val_loss: 0.1100 - val_acc: 0.9663\n"
     ]
    }
   ],
   "source": [
    "#hyperparamenters\n",
    "num_epochs = 15\n",
    "history = model.fit(train_sparse, y_train, epochs=num_epochs, validation_data=(valid_sparse, y_valid), verbose=2)"
   ]
  },
  {
   "cell_type": "markdown",
   "metadata": {},
   "source": [
    "# Visualizing The results"
   ]
  },
  {
   "cell_type": "code",
   "execution_count": 500,
   "metadata": {},
   "outputs": [
    {
     "data": {
      "image/png": "[encoded data removed]",
      "text/plain": [
       "<Figure size 936x576 with 1 Axes>"
      ]
     },
     "metadata": {
      "needs_background": "light"
     },
     "output_type": "display_data"
    }
   ],
   "source": [
    "plt.figure(figsize=(13,8))\n",
    "plt.title(\"Training Accuracy VS Validation Accuracy\",fontsize=18)\n",
    "plt.plot(history.history['acc'])\n",
    "plt.plot(history.history['val_acc'])\n",
    "plt.xlabel(\"Nr_Epochs\",fontsize=18)\n",
    "plt.ylabel('accuracy_rate',fontsize=18)\n",
    "plt.legend(['accuracy', 'val_accuracy'])\n",
    "plt.show()"
   ]
  },
  {
   "cell_type": "code",
   "execution_count": 502,
   "metadata": {},
   "outputs": [
    {
     "data": {
      "text/plain": [
       "{'loss': [1.596472541580486,\n",
       "  1.4893208709995398,\n",
       "  1.3471716830792946,\n",
       "  1.0209921099273453,\n",
       "  0.7145517270216781,\n",
       "  0.4929852708002155,\n",
       "  0.4130162413870351,\n",
       "  0.35888747680053285,\n",
       "  0.35508534200629044,\n",
       "  0.33162129155259007,\n",
       "  0.27889838917425064,\n",
       "  0.2917121221510212,\n",
       "  0.26797611225633583,\n",
       "  0.2719115487310324,\n",
       "  0.27383613088604214],\n",
       " 'acc': [0.2494382,\n",
       "  0.33932585,\n",
       "  0.43146068,\n",
       "  0.611985,\n",
       "  0.7258427,\n",
       "  0.80749065,\n",
       "  0.82397,\n",
       "  0.8426966,\n",
       "  0.83670413,\n",
       "  0.84419477,\n",
       "  0.8674157,\n",
       "  0.85393256,\n",
       "  0.8621723,\n",
       "  0.8494382,\n",
       "  0.8636704],\n",
       " 'val_loss': [1.5649092516202605,\n",
       "  1.5034011315763667,\n",
       "  1.2588035637073303,\n",
       "  0.845766062281105,\n",
       "  0.520407046226973,\n",
       "  0.3509769410899516,\n",
       "  0.2728614873430702,\n",
       "  0.2058411549651221,\n",
       "  0.1798205301667867,\n",
       "  0.15726840440811735,\n",
       "  0.1354687757873803,\n",
       "  0.1370135097858611,\n",
       "  0.11943062754829278,\n",
       "  0.11559001552254966,\n",
       "  0.11001362029588624],\n",
       " 'val_acc': [0.28089887,\n",
       "  0.3483146,\n",
       "  0.59325844,\n",
       "  0.7685393,\n",
       "  0.90561795,\n",
       "  0.9258427,\n",
       "  0.9325843,\n",
       "  0.952809,\n",
       "  0.95730335,\n",
       "  0.95955056,\n",
       "  0.9617978,\n",
       "  0.9617978,\n",
       "  0.96629214,\n",
       "  0.96629214,\n",
       "  0.96629214]}"
      ]
     },
     "execution_count": 502,
     "metadata": {},
     "output_type": "execute_result"
    }
   ],
   "source": [
    "history.history"
   ]
  },
  {
   "cell_type": "code",
   "execution_count": 504,
   "metadata": {},
   "outputs": [
    {
     "data": {
      "image/png": "[encoded data removed]",
      "text/plain": [
       "<Figure size 936x576 with 1 Axes>"
      ]
     },
     "metadata": {
      "needs_background": "light"
     },
     "output_type": "display_data"
    }
   ],
   "source": [
    "plt.figure(figsize=(13,8))\n",
    "plt.title(\"Train Loss VS Validation Loss\",fontsize=18)\n",
    "plt.plot(history.history['loss'])\n",
    "plt.plot(history.history['val_loss'])\n",
    "plt.xlabel(\"Nr_Epochs\",fontsize=18)\n",
    "plt.ylabel('Loss',fontsize=18)\n",
    "plt.legend(['Train_loss', 'val_loss'])\n",
    "plt.show()"
   ]
  },
  {
   "cell_type": "markdown",
   "metadata": {},
   "source": [
    "<code>\n",
    "    Observation :\n",
    "    A- (Nr_epochs = 10)\n",
    "    1- By Adding Dropout Layer Train Accuracy decrease to 87 % which was 100%\n",
    "    2- By Adding Dropout Layer Validation Accuracy remain to 95%\n",
    "    3- This Signify that Our Model is Performing better in Validation Data which is Good \n",
    "        Result\n",
    "    \n",
    "    B- By increasing Epoch to 15 from 10 \n",
    "        Both Train Accuracy and  Validation Accuracy increases by 2%\n",
    "    </code>"
   ]
  },
  {
   "cell_type": "code",
   "execution_count": null,
   "metadata": {},
   "outputs": [],
   "source": []
  },
  {
   "cell_type": "code",
   "execution_count": null,
   "metadata": {},
   "outputs": [],
   "source": []
  }
 ],
 "metadata": {
  "kernelspec": {
   "display_name": "Python 3",
   "language": "python",
   "name": "python3"
  },
  "language_info": {
   "codemirror_mode": {
    "name": "ipython",
    "version": 3
   },
   "file_extension": ".py",
   "mimetype": "text/x-python",
   "name": "python",
   "nbconvert_exporter": "python",
   "pygments_lexer": "ipython3",
   "version": "3.7.6"
  }
 },
 "nbformat": 4,
 "nbformat_minor": 4
}
